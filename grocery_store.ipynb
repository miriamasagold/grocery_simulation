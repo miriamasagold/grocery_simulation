{
 "cells": [
  {
   "attachments": {},
   "cell_type": "markdown",
   "metadata": {},
   "source": [
    "# Grocer Cleveland"
   ]
  },
  {
   "cell_type": "code",
   "execution_count": 394,
   "metadata": {},
   "outputs": [],
   "source": [
    "import matplotlib.pyplot as plt\n",
    "import numpy as np\n",
    "import pandas as pd\n",
    "import random\n",
    "import uuid\n",
    "\n",
    "from itertools import repeat\n",
    "from scipy.stats import skewnorm"
   ]
  },
  {
   "attachments": {},
   "cell_type": "markdown",
   "metadata": {},
   "source": [
    "## Check-out flow\n",
    "\n",
    "1. Customer approaches the register area\n",
    "2. Customer queues at the register with the shortest line length\n",
    "3. **Later feature**: While the customer is at the top of the stack, they can switch to another register with shorter line or fewer items, since now they have had a bit of time to survey the other registers' lines and the contents of their customers' carts\n",
    "4. Each register processes customers at a rate of n seconds per item, which is a fixed cashier trait\n",
    "   a. The processing rate can be increased by a constant multiplier if a bagger is added to register\n",
    "   b. When register is empty (0 items), cashier can \"add\" a customer from a neighboring queue (FIFO)  \n",
    "5. The store can open another register if it has the capacity "
   ]
  },
  {
   "attachments": {},
   "cell_type": "markdown",
   "metadata": {},
   "source": [
    "# Helper Functions"
   ]
  },
  {
   "cell_type": "code",
   "execution_count": 395,
   "metadata": {},
   "outputs": [],
   "source": [
    "def seq_along(list: list):\n",
    "    return range(len(list))\n",
    "\n",
    "def norm_array(array):\n",
    "    range = (np.max(array) - np.min(array))\n",
    "    norm_arr = (array - np.min(array))/max(range, 0.0001)\n",
    "    return norm_arr\n",
    "\n",
    "def sample_skew(skew=5, mean=2, sd=15, size=1) -> int:\n",
    "    \"\"\"Sample integer(s) from customer item distribution\n",
    "    \"\"\"\n",
    "    # Create distribution\n",
    "    skewed_dist = skewnorm(skew, mean, sd)\n",
    "    # Sample from distribution\n",
    "    skew_num = skewed_dist.rvs(size)\n",
    "    # Replace negative numbers (and 0) with low positive values \n",
    "    strictly_pos = np.where(skew_num < 1, random.randint(1, 10), skew_num)\n",
    "    # Return integer\n",
    "    return int(strictly_pos)"
   ]
  },
  {
   "attachments": {},
   "cell_type": "markdown",
   "metadata": {},
   "source": [
    "# Classes"
   ]
  },
  {
   "cell_type": "code",
   "execution_count": 396,
   "metadata": {},
   "outputs": [],
   "source": [
    "class Customer:\n",
    "    \n",
    "    def __init__(self, store):\n",
    "        \n",
    "        self.store = store\n",
    "        self.register = None\n",
    "        self.name = uuid.uuid1().hex\n",
    "        self.items = sample_skew(size=1)\n",
    "        self.position = random.randint(0, store.n_registers)\n",
    "        self.vessel = random.choice([\"cart\", \"basket\"])\n",
    "\n",
    "    def __str__(self):\n",
    "        return self.name\n",
    "\n",
    "    def register_attributes(self):\n",
    "        \n",
    "        active_registers = [reg for reg in self.store.registers if reg.active]\n",
    "\n",
    "        # DISTANCE IS RELATIVE TO CUSTOMER\n",
    "        distance_arr = np.array([np.abs(self.position - reg.index) for reg in active_registers]) \n",
    "        distance_arr = norm_array(1/(distance_arr+0.1))\n",
    "\n",
    "        #cart_basket_arr = np.array([reg.vessel for reg in self.store.registers])\n",
    "\n",
    "        line_arr = np.array([reg.line_length for reg in active_registers])\n",
    "        line_arr = norm_array(1/(line_arr+0.1))\n",
    "\n",
    "        item_arr = np.array([reg.items for reg in active_registers])\n",
    "        item_arr = norm_array(1/(item_arr+0.1))\n",
    "\n",
    "        speed_arr = np.array([reg.cashier.speed for reg in active_registers])\n",
    "        speed_arr = norm_array(speed_arr)\n",
    "\n",
    "        return np.column_stack((distance_arr, line_arr, item_arr, speed_arr))\n",
    "\n",
    "    def ability_weight(self, attr_matrix):\n",
    "        \n",
    "        # dist, line, items, speed\n",
    "        attr_matrix += np.random.normal(0, 0.1, 4)\n",
    "\n",
    "        weighted_attrs = np.multiply(attr_matrix, np.random.normal(1, 0.2, 4))\n",
    "        \n",
    "        return weighted_attrs\n",
    "    \n",
    "    def register_scores(self, weighted_attrs):\n",
    "        # Sum up attribute values by \n",
    "        return np.sum(weighted_attrs, axis=1)\n",
    "\n",
    "    def choose_register(self, verbose=True):\n",
    "        \n",
    "        active_registers = [reg for reg in self.store.registers if reg.active]\n",
    "        attr_matrix = self.register_attributes()\n",
    "\n",
    "        weighted_attrs = self.ability_weight(attr_matrix)\n",
    "\n",
    "        summed = self.register_scores(weighted_attrs)\n",
    "        chosen_register = np.argmax(summed)\n",
    "        \n",
    "        # Join chosen register\n",
    "        register = active_registers[chosen_register]\n",
    "\n",
    "        register.line_length += 1\n",
    "        register.items += self.items\n",
    "        register.vessel.append(self.vessel)\n",
    "        register.customers.append(self)\n",
    "        self.register = register\n",
    "        if verbose: return chosen_register"
   ]
  },
  {
   "cell_type": "code",
   "execution_count": 397,
   "metadata": {},
   "outputs": [],
   "source": [
    "class Cashier:\n",
    "    def __init__(self):\n",
    "        #rand_speed = np.random.normal(10, 0.2)\n",
    "        #rand_speed_pos = np.absolute(rand_speed)\n",
    "        self.speed = sample_skew(mean=6, size=1)"
   ]
  },
  {
   "cell_type": "code",
   "execution_count": 398,
   "metadata": {},
   "outputs": [],
   "source": [
    "class Register:\n",
    "    \n",
    "    bagger_multiplier = 1.5\n",
    "\n",
    "    def __init__(self, store, index: int, cashier, bagger: bool):\n",
    "        \"\"\"A Register instance\n",
    "\n",
    "        Args:\n",
    "            store (Store): Store instance to which the register belongs\n",
    "            index (int): unique identifier\n",
    "            cashier (Cashier): instance of class Cashier\n",
    "            bagger (bool): whether register includes a bagger\n",
    "        \"\"\"\n",
    "        self.store = store\n",
    "        self.index = index\n",
    "        # ! New register always has 0 items, 0 customers in line, and is active\n",
    "        self.items = 0\n",
    "        self.line_length = 0\n",
    "        self.customers = []\n",
    "        self.vessel = []\n",
    "        self.active = True\n",
    "        \n",
    "    \n",
    "        if cashier is None:\n",
    "            self.cashier = None\n",
    "        else:\n",
    "            self.cashier = cashier\n",
    "        # A bagger is optional (you can always add one later with add_bagger())\n",
    "            self.bagger = bagger\n",
    "        # If a bagger is added, checkout speed increases\n",
    "            if bagger:\n",
    "                self.speed = cashier.speed * self.bagger_multiplier\n",
    "            else:\n",
    "                self.speed = cashier.speed\n",
    "\n",
    "    def checkout_items(self):\n",
    "        \n",
    "        # If non-zero amount of customers...\n",
    "        if len(self.customers):\n",
    "\n",
    "            if self.items > 0:\n",
    "                # ...grab first customer in line\n",
    "                first_in_line = self.customers[0]\n",
    "                \n",
    "                # TODO: Allow register to checkout more than one customer per time step\n",
    "                # ...reduce register's items by speed (but not to negative items)\n",
    "                self.items -= min(self.speed, first_in_line.items)\n",
    "                # ...reduce their items by register's speed (but not to negative items)\n",
    "                first_in_line.items -= min(self.speed, first_in_line.items)\n",
    "                \n",
    "                # If customer is out of items...\n",
    "                if first_in_line.items <= 0:\n",
    "                    # ...remove from the register\n",
    "                    self.customers.remove(first_in_line)\n",
    "                    self.line_length -= 1\n",
    "                    # ...remove from the store\n",
    "                    #if first_in_line in self.store.customers:  \n",
    "                    #self.store.customers.remove(first_in_line)\n",
    "            else:\n",
    "                self.line_length = 0\n",
    "                self.customers = []\n",
    "\n",
    "    def activate(self):\n",
    "        self.active = True\n",
    "\n",
    "    def deactivate(self):\n",
    "        self.active = False\n",
    "    \n",
    "    def add_bagger(self):\n",
    "    # TODO: since baggers are just normal employees, add: check Store has enough employees free\n",
    "        self.bagger = True\n",
    "        self.speed = self.speed * self.bagger_multiplier"
   ]
  },
  {
   "cell_type": "code",
   "execution_count": 403,
   "metadata": {},
   "outputs": [],
   "source": [
    "class Store:\n",
    "    \n",
    "    def __init__(self, n_registers: int, employees: int):\n",
    "        \n",
    "        registers = []\n",
    "        free_employees = employees\n",
    "\n",
    "        for i in np.arange(n_registers):\n",
    "            if free_employees <= 0:\n",
    "                current_register = Register(store=self, index=i, cashier=None, bagger=False)\n",
    "                current_register.deactivate()\n",
    "                registers.append(current_register)\n",
    "            else:\n",
    "                cashier = Cashier()\n",
    "                current_register = Register(store=self, index=i, cashier=cashier, bagger=False)\n",
    "                registers.append(current_register)\n",
    "            \n",
    "            free_employees -= 1\n",
    "\n",
    "        self.registers = registers\n",
    "        self.n_registers = n_registers\n",
    "        self.employees = employees\n",
    "        \n",
    "        self.customers = []\n",
    "\n",
    "    def __str__(self):\n",
    "        return f\"{len(self.registers)} registers\"\n",
    "\n",
    "    def add_customers(self, n_customers):\n",
    "        for _ in np.arange(n_customers):\n",
    "            customer = Customer(store=self)\n",
    "            self.customers.append(customer)\n",
    "\n",
    "    def checkout_items(self):\n",
    "        for reg in self.registers:\n",
    "            reg.checkout_items()\n",
    "    \n",
    "    def queue_customers(self):\n",
    "        eligible_customers = [c for c in self.customers if c.register is None]\n",
    "        for customer in eligible_customers:\n",
    "            customer.choose_register()\n",
    "\n",
    "    def plot_register_stats(self):\n",
    "        reg_dicts = [reg.__dict__ for reg in self.registers]\n",
    "\n",
    "        def extract_column(key, reg_dicts):\n",
    "            col = [reg[key] for reg in reg_dicts]\n",
    "            return pd.DataFrame({key: col})\n",
    "        \n",
    "        cols = [extract_column(key, reg_dicts) for key in [\"index\", \"items\", \"line_length\", \"speed\"]]\n",
    "        reg_data = pd.concat(cols, axis=1)\n",
    "\n",
    "        fig, ax = plt.subplots(2, 2)\n",
    "        fig.delaxes(ax[1,1])\n",
    "        fig.tight_layout()\n",
    "        ax[0, 0].bar(reg_data.index, reg_data[\"items\"], color=\"red\")\n",
    "        ax[0, 0].set_title(\"Number of items\")\n",
    "\n",
    "        ax[0, 1].bar(reg_data.index, reg_data[\"line_length\"], color=\"orange\")\n",
    "        ax[0, 1].set_title(\"Customers in line\")\n",
    "        ax[0, 1].set_ylim(0, 100)\n",
    "\n",
    "        ax[1, 0].bar(reg_data.index, reg_data[\"speed\"], color=\"green\")\n",
    "        ax[1, 0].set_title(\"Checkout speed\")\n",
    "\n",
    "        plt.show()\n",
    "    \n",
    "    def cycle(self, n_customers, plot: bool = False):\n",
    "        # customers appear\n",
    "        self.add_customers(n_customers)\n",
    "        # customers queue\n",
    "        self.queue_customers()\n",
    "        # items are checked out\n",
    "        self.checkout_items()\n",
    "        if plot:\n",
    "            self.plot_register_stats()"
   ]
  },
  {
   "attachments": {},
   "cell_type": "markdown",
   "metadata": {},
   "source": [
    "# Simulation"
   ]
  },
  {
   "cell_type": "code",
   "execution_count": 424,
   "metadata": {},
   "outputs": [],
   "source": [
    "# Initialize store\n",
    "cub = Store(n_registers=10, employees=15)\n",
    "n_cycles = 100\n",
    "for _ in np.arange(n_cycles):\n",
    "    n_customers= random.randint(5, 8)\n",
    "    cub.cycle(n_customers, plot=False)"
   ]
  },
  {
   "cell_type": "code",
   "execution_count": 425,
   "metadata": {},
   "outputs": [
    {
     "data": {
      "text/plain": [
       "[2, 3, 2, 2, 4, 3, 3, 1, 3, 2]"
      ]
     },
     "execution_count": 425,
     "metadata": {},
     "output_type": "execute_result"
    }
   ],
   "source": [
    "[r.line_length for r in cub.registers]"
   ]
  },
  {
   "attachments": {},
   "cell_type": "markdown",
   "metadata": {},
   "source": [
    "## Customer Decisionmaking"
   ]
  },
  {
   "cell_type": "code",
   "execution_count": 405,
   "metadata": {},
   "outputs": [],
   "source": [
    "miriam = Customer(cub)\n",
    "attr_matrix = miriam.register_attributes()\n",
    "weighted_attrs = miriam.ability_weight(attr_matrix)\n",
    "scores = miriam.register_scores(weighted_attrs)"
   ]
  },
  {
   "cell_type": "code",
   "execution_count": 406,
   "metadata": {},
   "outputs": [
    {
     "data": {
      "image/png": "[encoded data removed]",
      "text/plain": [
       "<Figure size 640x480 with 1 Axes>"
      ]
     },
     "metadata": {},
     "output_type": "display_data"
    }
   ],
   "source": [
    "data = weighted_attrs\n",
    "x = np.arange(data.shape[0])\n",
    "dx = (np.arange(data.shape[1])-data.shape[1]/2.)/(data.shape[1]+2.)\n",
    "d = 1./(data.shape[1]+1.)\n",
    "lab = [\"distance\", \"line\", \"items\", \"speed\"]\n",
    "fig, ax=plt.subplots()\n",
    "for i in np.arange(data.shape[1]):\n",
    "    ax.bar(x+dx[i], data[:,i], width=d, label=f\"{lab[i]}\")\n",
    "\n",
    "plt.legend(framealpha=1, loc=2, fancybox=True)\n",
    "plt.show()"
   ]
  },
  {
   "cell_type": "code",
   "execution_count": 407,
   "metadata": {},
   "outputs": [
    {
     "data": {
      "image/png": "[encoded data removed]",
      "text/plain": [
       "<Figure size 640x480 with 1 Axes>"
      ]
     },
     "metadata": {},
     "output_type": "display_data"
    }
   ],
   "source": [
    "fig, ax = plt.subplots()\n",
    "for i in np.arange(scores.shape[0]):\n",
    "    ax.bar(i, scores[i], color= \"#a0e872\")\n",
    "plt.show()"
   ]
  }
 ],
 "metadata": {
  "kernelspec": {
   "display_name": ".venv",
   "language": "python",
   "name": "python3"
  },
  "language_info": {
   "codemirror_mode": {
    "name": "ipython",
    "version": 3
   },
   "file_extension": ".py",
   "mimetype": "text/x-python",
   "name": "python",
   "nbconvert_exporter": "python",
   "pygments_lexer": "ipython3",
   "version": "3.10.6"
  },
  "orig_nbformat": 4,
  "vscode": {
   "interpreter": {
    "hash": "ebdb21a8dfb54583ebd3022d835b778fd3e9dff5e617c1cced9319fed51b4f60"
   }
  }
 },
 "nbformat": 4,
 "nbformat_minor": 2
}
