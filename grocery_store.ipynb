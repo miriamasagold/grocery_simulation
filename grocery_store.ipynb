{
 "cells": [
  {
   "cell_type": "code",
   "execution_count": 159,
   "metadata": {},
   "outputs": [],
   "source": [
    "import matplotlib.pyplot as plt\n",
    "import numpy as np\n",
    "import pandas as pd\n",
    "import random\n",
    "\n",
    "from collections import OrderedDict"
   ]
  },
  {
   "attachments": {},
   "cell_type": "markdown",
   "metadata": {},
   "source": [
    "### Check-out flow\n",
    "\n",
    "1. Customer approaches the register area\n",
    "2. Customer queues at the register with the shortest line length\n",
    "3. **Later feature**: While the customer is at the top of the stack, they can switch to another register with shorter line or fewer items, since now they have had a bit of time to survey the other registers' lines and the contents of their customers' carts\n",
    "4. Each register processes customers at a rate of n seconds per item, which is a fixed cashier trait\n",
    "   a. The processing rate can be increased by a constant multiplier if a bagger is added to register\n",
    "   b. When register is empty (0 items), cashier can \"add\" a customer from a neighboring queue (FIFO)  \n",
    "5. The store can open another register if it has the capacity "
   ]
  },
  {
   "cell_type": "code",
   "execution_count": 173,
   "metadata": {},
   "outputs": [],
   "source": [
    "# Person: number of items; \n",
    "# everyone has perfect vision and \n",
    "# the ability to tell which the shortest line is\n",
    "\n",
    "class Customer:\n",
    "    # TODO: change vision from [0,1] to vision radius (this relates to a store's width)\n",
    "    def __init__(self, name: str, n: int, vessel: str, vision = 1):\n",
    "        self.name = name\n",
    "        self.items = n\n",
    "        self.vision = vision\n",
    "        if vessel in [\"cart\", \"basket\"]:\n",
    "            self.vessel = vessel\n",
    "        else:\n",
    "            raise ValueError(\"vessel must be one of 'cart' or 'basket'\")\n",
    "\n",
    "class Cashier:\n",
    "    def __init__(self, speed: int):\n",
    "        \"\"\"A Cashier instance\n",
    "\n",
    "        Args:\n",
    "            speed (int): number of items the cashier can process in a minute\n",
    "        \"\"\"\n",
    "        self.speed = speed\n",
    "\n",
    "class Register:\n",
    "    \n",
    "    bagger_multiplier = 1.5\n",
    "\n",
    "    def __init__(self, index: int, cashier: Cashier, bagger: bool):\n",
    "        \"\"\"A Register instance\n",
    "\n",
    "        Args:\n",
    "            index (int): unique identifier\n",
    "            cashier (Cashier): instance of class Cashier\n",
    "            bagger (bool): whether register includes a bagger\n",
    "        \"\"\"\n",
    "        self.index = index\n",
    "        # ! New register always has 0 items, 0 customers in line, and is active\n",
    "        self.items = 0\n",
    "        self.line_length = 0\n",
    "        self.customers = []\n",
    "        self.active = True\n",
    "\n",
    "        # ! A cashier is required when a register is opened\n",
    "        self.cashier = cashier\n",
    "        # A bagger is optional (you can always add one later)\n",
    "        self.bagger = bagger\n",
    "        # If a bagger is added to \n",
    "        if bagger:\n",
    "            self.speed = cashier.speed * self.bagger_multiplier\n",
    "        else:\n",
    "            self.speed = cashier.speed\n",
    "\n",
    "    def activate(self):\n",
    "        self.active = True\n",
    "\n",
    "    def deactivate(self):\n",
    "        self.active = False\n",
    "    \n",
    "    def add_bagger(self):\n",
    "    # TODO: since baggers are just normal employees, add: check Store() has enough employees free\n",
    "        self.speed = self.speed * self.bagger_multiplier\n",
    "\n",
    "    def add_customer(self, customer):\n",
    "        self.line_length += 1\n",
    "        self.items += customer.items\n",
    "        self.customers.append(customer.name)\n",
    "\n",
    "# TODO: class Store, with n employees, n registers, and (later) width \n",
    "\n",
    "\n",
    "# * Helper Functions \n",
    "def seq_along(list):\n",
    "    return range(len(list))\n",
    "\n",
    "def find_fewest_items(register_list: list):\n",
    "    all_items = [reg.items for reg in register_list]\n",
    "    min_items = [i for i in seq_along(register_list) if register_list[i].items == min(all_items)]\n",
    "    return min(min_items)\n",
    "\n",
    "def find_shortest_line(register_list: list):\n",
    "    all_line_lengths = [reg.line_length for reg in registers]\n",
    "    # Find register(s) with the shortest line \n",
    "    min_lines = [i for i in seq_along(registers) if registers[i].line_length == min(all_line_lengths)]\n",
    "    # In case of a tie, arbitrarily pick the register with the lowest index\n",
    "    # TODO: Break tie with min(items)\n",
    "    return min(min_lines)\n",
    "\n",
    "def sort_dict(dictionary):\n",
    "    sorted_d = dict(sorted(dictionary.items()))\n",
    "    return sorted_d"
   ]
  },
  {
   "attachments": {},
   "cell_type": "markdown",
   "metadata": {},
   "source": [
    "#### Build customers"
   ]
  },
  {
   "cell_type": "code",
   "execution_count": 54,
   "metadata": {},
   "outputs": [],
   "source": [
    "customer1 = Customer(\"Miriam\", random.randint(1, 100))"
   ]
  },
  {
   "attachments": {},
   "cell_type": "markdown",
   "metadata": {},
   "source": [
    "##### Build cashiers"
   ]
  },
  {
   "cell_type": "code",
   "execution_count": 81,
   "metadata": {},
   "outputs": [
    {
     "data": {
      "text/plain": [
       "{'speed': 21}"
      ]
     },
     "execution_count": 81,
     "metadata": {},
     "output_type": "execute_result"
    }
   ],
   "source": [
    "cashier = Cashier(random.randint(1, 100))\n",
    "cashier.__dict__"
   ]
  },
  {
   "attachments": {},
   "cell_type": "markdown",
   "metadata": {},
   "source": [
    "#### Build registers"
   ]
  },
  {
   "cell_type": "code",
   "execution_count": 82,
   "metadata": {},
   "outputs": [],
   "source": [
    "registers = []\n",
    "for i in range(11):\n",
    "    cashier = Cashier(random.randint(1, 100))\n",
    "    current_register = Register(index=i, cashier = cashier, bagger = False)\n",
    "    registers.append(current_register)\n",
    "\n",
    "for i in [0, 2, 3, 4, 5, 9]:\n",
    "    registers[i].add_customer(customer1)\n",
    "for i in [5, 6, 7, 8, 9, 0]:\n",
    "    registers[i].add_customer(customer1)"
   ]
  },
  {
   "attachments": {},
   "cell_type": "markdown",
   "metadata": {},
   "source": [
    "#### Combine Register Attributes and Weight"
   ]
  },
  {
   "cell_type": "code",
   "execution_count": 190,
   "metadata": {},
   "outputs": [
    {
     "data": {
      "text/plain": [
       "'reg2'"
      ]
     },
     "execution_count": 190,
     "metadata": {},
     "output_type": "execute_result"
    }
   ],
   "source": [
    "my_dict = {\"width\": 2, \"height\": 4, \"depth\": 5}\n",
    "my_dict = sort_dict(my_dict)\n",
    "attrs = ('width', 'height')\n",
    "reg1_attr = [v for k,v in my_dict.items() if k in attrs]\n",
    "reg1_attr\n",
    "\n",
    "register2 = [3,4]\n",
    "\n",
    "# ! WEIGHTS\n",
    "weights = np.array([10, 20])\n",
    "\n",
    "# ! ATTRIBUTE MATRIX\n",
    "my_matrix = np.matrix([reg1_attr, register2])\n",
    "\n",
    "# Apply customer weights to matrix\n",
    "mat_weighted = np.multiply(my_matrix, weights)\n",
    "\n",
    "# Register-wise sum\n",
    "summed = np.sum(mat_weighted, axis=1)\n",
    "sum_array = np.squeeze(np.asarray(summed))\n",
    "names = [\"reg1\", \"reg2\"]\n",
    "sum_dict = {k:v for k,v in zip(names, sum_array)}\n",
    "max(sum_dict, key=sum_dict.get)"
   ]
  }
 ],
 "metadata": {
  "kernelspec": {
   "display_name": ".venv",
   "language": "python",
   "name": "python3"
  },
  "language_info": {
   "codemirror_mode": {
    "name": "ipython",
    "version": 3
   },
   "file_extension": ".py",
   "mimetype": "text/x-python",
   "name": "python",
   "nbconvert_exporter": "python",
   "pygments_lexer": "ipython3",
   "version": "3.10.6"
  },
  "orig_nbformat": 4,
  "vscode": {
   "interpreter": {
    "hash": "ebdb21a8dfb54583ebd3022d835b778fd3e9dff5e617c1cced9319fed51b4f60"
   }
  }
 },
 "nbformat": 4,
 "nbformat_minor": 2
}
