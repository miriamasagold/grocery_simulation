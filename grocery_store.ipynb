{
 "cells": [
  {
   "cell_type": "code",
   "execution_count": 1,
   "metadata": {},
   "outputs": [],
   "source": [
    "import matplotlib.pyplot as plt\n",
    "import numpy as np\n",
    "import pandas as pd"
   ]
  },
  {
   "attachments": {},
   "cell_type": "markdown",
   "metadata": {},
   "source": [
    "### Check-out flow\n",
    "\n",
    "1. Customer approaches the register area\n",
    "2. Customer queues at the register with the shortest line length\n",
    "3. **Later feature**: While the customer is at the top of the stack, they can switch to another register with shorter line or fewer items, since now they have had a bit of time to survey the other registers' lines and the contents of their customers' carts\n",
    "4. Each register processes customers at a rate of n seconds per item, which is a fixed cashier trait\n",
    "   a. The processing rate can be increased by a constant multiplier if a bagger is added to register\n",
    "   b. When register is empty (0 items), cashier can \"add\" a customer from a neighboring queue (FIFO)  \n",
    "5. The store can open another register if it has the capacity "
   ]
  },
  {
   "cell_type": "code",
   "execution_count": 73,
   "metadata": {},
   "outputs": [],
   "source": [
    "# Person: number of items; \n",
    "# everyone has perfect vision and \n",
    "# the ability to tell which the shortest line is\n",
    "\n",
    "# TODO: method to generate a random number of items to instantiate Customer with [1, 100?]\n",
    "class Customer:\n",
    "\n",
    "    def __init__(self, name: str, n, vision = 1):\n",
    "        self.name = name\n",
    "        self.items = n\n",
    "        self.vision = vision\n",
    "\n",
    "class Cashier:\n",
    "    def __init__(self, speed: int):\n",
    "        \"\"\"A Cashier instance\n",
    "\n",
    "        Args:\n",
    "            speed (int): number of items the cashier can process in a minute\n",
    "        \"\"\"\n",
    "        self.speed = speed\n",
    "\n",
    "class Register:\n",
    "    \n",
    "    bagger_multiplier = 1.5\n",
    "\n",
    "    def __init__(self, index: int, cashier: Cashier, bagger: bool):\n",
    "        \"\"\"A Register instance\n",
    "\n",
    "        Args:\n",
    "            index (int): unique identifier\n",
    "            cashier (Cashier): instance of class Cashier\n",
    "            bagger (bool): whether register includes a bagger\n",
    "        \"\"\"\n",
    "        self.index = index\n",
    "        # ! New register always has 0 items, 0 customers in line, and is active\n",
    "        self.items = 0\n",
    "        self.line_length = 0\n",
    "        self.customers = []\n",
    "        self.active = True\n",
    "\n",
    "        # ! A cashier is required when a register is opened\n",
    "        self.cashier = cashier\n",
    "        # A bagger is optional (you can always add one later)\n",
    "        self.bagger = bagger\n",
    "        # If a bagger is added to \n",
    "        if bagger:\n",
    "            self.speed = cashier.speed * self.bagger_multiplier\n",
    "        else:\n",
    "            self.speed = cashier.speed\n",
    "\n",
    "    def activate(self):\n",
    "        self.active = True\n",
    "\n",
    "    def deactivate(self):\n",
    "        self.active = False\n",
    "    \n",
    "    def add_bagger(self):\n",
    "    # TODO: since baggers are just normal employees, add: check Store() has enough employees free\n",
    "        self.speed = self.speed * self.bagger_multiplier\n",
    "\n",
    "    def add_customer(self, customer):\n",
    "        self.line_length += 1\n",
    "        self.items += customer.items\n",
    "        self.customers.append(customer.name)\n",
    "\n",
    "# TODO: class Store, with n employees, n registers, and (later) width \n",
    "\n",
    "\n",
    "# * Helper Functions \n",
    "def seq_along(list):\n",
    "    return range(len(list))"
   ]
  },
  {
   "cell_type": "code",
   "execution_count": 61,
   "metadata": {},
   "outputs": [],
   "source": [
    "cashier = Cashier(30)"
   ]
  },
  {
   "cell_type": "code",
   "execution_count": 80,
   "metadata": {},
   "outputs": [
    {
     "data": {
      "text/plain": [
       "[1, 10]"
      ]
     },
     "execution_count": 80,
     "metadata": {},
     "output_type": "execute_result"
    }
   ],
   "source": [
    "registers = []\n",
    "for i in range(11):\n",
    "    current_register = Register(index=i, cashier = cashier, bagger = False)\n",
    "    registers.append(current_register)\n",
    "\n",
    "for i in [0, 2, 3, 4, 5, 9]:\n",
    "    registers[i].add_customer(miriam)\n",
    "for i in [5, 6, 7, 8, 9, 0]:\n",
    "    registers[i].add_customer(lizzie)\n",
    "\n",
    "\n",
    "def find_shortest_line(register_list: list):\n",
    "    all_line_lengths = [reg.items for reg in registers]\n",
    "    # Find register(s) with the shortest line \n",
    "    min_lines = [i for i in seq_along(registers) if registers[i].items == min(all_line_lengths)]\n",
    "    # In case of a tie, arbitrarily pick the register with the lowest index\n",
    "    # TODO: Break tie with min(items)\n",
    "    return min(min_lines)"
   ]
  },
  {
   "cell_type": "code",
   "execution_count": 72,
   "metadata": {},
   "outputs": [
    {
     "data": {
      "text/plain": [
       "range(0, 3)"
      ]
     },
     "execution_count": 72,
     "metadata": {},
     "output_type": "execute_result"
    }
   ],
   "source": []
  }
 ],
 "metadata": {
  "kernelspec": {
   "display_name": ".venv",
   "language": "python",
   "name": "python3"
  },
  "language_info": {
   "codemirror_mode": {
    "name": "ipython",
    "version": 3
   },
   "file_extension": ".py",
   "mimetype": "text/x-python",
   "name": "python",
   "nbconvert_exporter": "python",
   "pygments_lexer": "ipython3",
   "version": "3.10.6"
  },
  "orig_nbformat": 4,
  "vscode": {
   "interpreter": {
    "hash": "ebdb21a8dfb54583ebd3022d835b778fd3e9dff5e617c1cced9319fed51b4f60"
   }
  }
 },
 "nbformat": 4,
 "nbformat_minor": 2
}
