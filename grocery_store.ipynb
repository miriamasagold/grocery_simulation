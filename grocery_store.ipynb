{
 "cells": [
  {
   "cell_type": "code",
   "execution_count": 615,
   "metadata": {},
   "outputs": [],
   "source": [
    "import matplotlib.pyplot as plt\n",
    "import numpy as np\n",
    "import pandas as pd\n",
    "import random\n",
    "import uuid\n",
    "\n",
    "from scipy.stats import skewnorm"
   ]
  },
  {
   "attachments": {},
   "cell_type": "markdown",
   "metadata": {},
   "source": [
    "### Helper functions"
   ]
  },
  {
   "cell_type": "code",
   "execution_count": 616,
   "metadata": {},
   "outputs": [],
   "source": [
    "def seq_along(list: list):\n",
    "    return range(len(list))\n",
    "\n",
    "def norm_array(array):\n",
    "    range = (np.max(array) - np.min(array))\n",
    "    norm_arr = (array - np.min(array))/max(range, 0.0001)\n",
    "    return norm_arr\n",
    "\n",
    "def sample_skew(skew=5, mean=2, sd=15, size=1) -> int:\n",
    "    \"\"\"Sample integer(s) from customer item distribution\n",
    "\n",
    "    Args:\n",
    "        skew (int, optional): _description_. Defaults to 5.\n",
    "        mean (int, optional): _description_. Defaults to 2.\n",
    "        sd (int, optional): _description_. Defaults to 15.\n",
    "        size (int, optional): _description_. Defaults to 1.\n",
    "\n",
    "    Returns:\n",
    "        int: _description_\n",
    "    \"\"\"\n",
    "    # Create distribution\n",
    "    skewed_dist = skewnorm(skew, mean, sd)\n",
    "    # Sample from distribution\n",
    "    skew_num = skewed_dist.rvs(size)\n",
    "    # Replace negative numbers (and 0) with low positive values \n",
    "    strictly_pos = np.where(skew_num < 1, random.randint(1, 10), skew_num)\n",
    "    # Return integer\n",
    "    return int(strictly_pos)"
   ]
  },
  {
   "attachments": {},
   "cell_type": "markdown",
   "metadata": {},
   "source": [
    "### Grocery Classes\n",
    "1. Customer\n",
    "2. Cashier\n",
    "3. Register\n",
    "4. Store"
   ]
  },
  {
   "cell_type": "code",
   "execution_count": 656,
   "metadata": {},
   "outputs": [],
   "source": [
    "class Customer:\n",
    "    \n",
    "    def __init__(self, store):\n",
    "        \n",
    "        self.store = store\n",
    "        self.register = None\n",
    "        self.name = uuid.uuid1().hex\n",
    "        self.items = sample_skew(size=1)\n",
    "        self.position = random.randint(0, store.n_registers)\n",
    "        self.vessel = random.choice([\"cart\", \"basket\"])\n",
    "\n",
    "    def register_attributes(self):\n",
    "        \n",
    "        active_registers = [reg for reg in self.store.registers if reg.active]\n",
    "\n",
    "        # DISTANCE IS RELATIVE TO CUSTOMER\n",
    "        distance_arr = np.array([np.abs(self.position - reg.index) for reg in active_registers]) \n",
    "        distance_arr = norm_array(1/(distance_arr+0.1))\n",
    "\n",
    "        #cart_basket_arr = np.array([reg.vessel for reg in self.store.registers])\n",
    "\n",
    "        line_arr = np.array([reg.line_length for reg in active_registers])\n",
    "        line_arr = norm_array(1/(line_arr+0.1))\n",
    "\n",
    "        item_arr = np.array([reg.items for reg in active_registers])\n",
    "        item_arr = norm_array(1/(item_arr+0.1))\n",
    "\n",
    "        speed_arr = np.array([reg.cashier.speed for reg in active_registers])\n",
    "        speed_arr = norm_array(speed_arr)\n",
    "\n",
    "        return np.column_stack((distance_arr, line_arr, item_arr, speed_arr))\n",
    "\n",
    "    def ability_weight(self, attr_matrix):\n",
    "        \n",
    "        # TODO: design ability vector (i.e., each distribution) \n",
    "        attr_matrix += np.random.normal(0, 0.1, 4)\n",
    "        #               dist, line, items, speed\n",
    "\n",
    "        # TODO: design weights vector \n",
    "        weighted_attrs = np.multiply(attr_matrix, np.random.normal(1, 0.2, 4))\n",
    "        \n",
    "        return weighted_attrs\n",
    "    \n",
    "    def register_scores(self, weighted_attrs):\n",
    "        # Sum up attribute values by \n",
    "        return np.sum(weighted_attrs, axis=1)\n",
    "\n",
    "    def choose_register(self, verbose=True):\n",
    "        \n",
    "        active_registers = [reg for reg in self.store.registers if reg.active]\n",
    "        attr_matrix = self.register_attributes()\n",
    "\n",
    "        weighted_attrs = self.ability_weight(attr_matrix)\n",
    "\n",
    "        summed = self.register_scores(weighted_attrs)\n",
    "        chosen_register = np.argmax(summed)\n",
    "        \n",
    "        # Join chosen register\n",
    "        register = active_registers[chosen_register]\n",
    "\n",
    "        register.line_length += 1\n",
    "        register.items += self.items\n",
    "        register.vessel.append(self.vessel)\n",
    "        register.customers.append(self.name)\n",
    "        self.register = register\n",
    "        if verbose: return chosen_register"
   ]
  },
  {
   "cell_type": "code",
   "execution_count": 657,
   "metadata": {},
   "outputs": [],
   "source": [
    "class Cashier:\n",
    "    def __init__(self):\n",
    "        rand_speed = np.random.normal(3, 0.2)\n",
    "        rand_speed_pos = np.absolute(rand_speed)\n",
    "        self.speed = rand_speed_pos"
   ]
  },
  {
   "cell_type": "code",
   "execution_count": 658,
   "metadata": {},
   "outputs": [],
   "source": [
    "class Register:\n",
    "    \n",
    "    bagger_multiplier = 1.5\n",
    "\n",
    "    def __init__(self, index: int, cashier, bagger: bool):\n",
    "        \"\"\"A Register instance\n",
    "\n",
    "        Args:\n",
    "            index (int): unique identifier\n",
    "            cashier (Cashier): instance of class Cashier\n",
    "            bagger (bool): whether register includes a bagger\n",
    "        \"\"\"\n",
    "        self.index = index\n",
    "        # ! New register always has 0 items, 0 customers in line, and is active\n",
    "        self.items = 0\n",
    "        self.line_length = 0\n",
    "        self.customers = []\n",
    "        self.vessel = []\n",
    "        self.active = True\n",
    "    \n",
    "        if cashier is None:\n",
    "            self.cashier = None\n",
    "        else:\n",
    "            self.cashier = cashier\n",
    "        # A bagger is optional (you can always add one later with add_bagger())\n",
    "            self.bagger = bagger\n",
    "        # If a bagger is added, checkout speed increases\n",
    "            if bagger:\n",
    "                self.speed = cashier.speed * self.bagger_multiplier\n",
    "            else:\n",
    "                self.speed = cashier.speed\n",
    "\n",
    "    \n",
    "    def checkout_items(self):\n",
    "        # TODO:  Customer-specific checkout \n",
    "        # each register has customers\n",
    "        # each of those customers has a number of items\n",
    "        # during each time step, the number of items in the 1st (bottom) customer's vessel decreases by register.speed\n",
    "        # when the number of items in the 1st customer's vessel == 0, pop that customer from the register AND from the store\n",
    "        \n",
    "        self.items = np.round(self.items - self.speed)\n",
    "\n",
    "    def activate(self):\n",
    "        self.active = True\n",
    "\n",
    "    def deactivate(self):\n",
    "        self.active = False\n",
    "    \n",
    "    def add_bagger(self):\n",
    "    # TODO: since baggers are just normal employees, add: check Store has enough employees free\n",
    "        self.bagger = True\n",
    "        self.speed = self.speed * self.bagger_multiplier"
   ]
  },
  {
   "cell_type": "code",
   "execution_count": 665,
   "metadata": {},
   "outputs": [],
   "source": [
    "class Store:\n",
    "    \n",
    "    def __init__(self, n_registers: int, employees: int):\n",
    "        \n",
    "        registers = []\n",
    "        free_employees = employees\n",
    "\n",
    "        for i in np.arange(n_registers):\n",
    "            if free_employees <= 0:\n",
    "                current_register = Register(index=i, cashier=None, bagger=False)\n",
    "                current_register.deactivate()\n",
    "                registers.append(current_register)\n",
    "            else:\n",
    "                cashier = Cashier()\n",
    "                current_register = Register(index=i, cashier = cashier, bagger = False)\n",
    "                registers.append(current_register)\n",
    "            \n",
    "            free_employees -= 1\n",
    "\n",
    "        self.registers = registers\n",
    "        self.n_registers = n_registers\n",
    "        self.employees = employees\n",
    "        \n",
    "        self.customers = []\n",
    "\n",
    "    def add_customers(self, n_customers):\n",
    "        for _ in np.arange(n_customers):\n",
    "            customer = Customer(store=self)\n",
    "            self.customers.append(customer)\n",
    "\n",
    "    def checkout_items(self):\n",
    "        for reg in self.registers:\n",
    "            reg.checkout_items()\n",
    "    \n",
    "    def queue_customers(self):\n",
    "        eligible_customers = [c for c in self.customers if c.register is None]\n",
    "        for customer in self.customers:\n",
    "            customer.choose_register()\n",
    "\n",
    "    def plot_register_stats(self):\n",
    "        reg_dicts = [reg.__dict__ for reg in self.registers]\n",
    "\n",
    "        def extract_column(key, reg_dicts):\n",
    "            col = [reg[key] for reg in reg_dicts]\n",
    "            return pd.DataFrame({key: col})\n",
    "        \n",
    "        cols = [extract_column(key, reg_dicts) for key in [\"index\", \"items\", \"line_length\", \"speed\"]]\n",
    "        reg_data = pd.concat(cols, axis=1)\n",
    "\n",
    "        fig, ax = plt.subplots(2, 2)\n",
    "        fig.delaxes(ax[1,1])\n",
    "        fig.tight_layout()\n",
    "        ax[0, 0].bar(reg_data.index, reg_data[\"items\"], color=\"red\")\n",
    "        ax[0, 0].set_title(\"Number of items\")\n",
    "\n",
    "        ax[0, 1].bar(reg_data.index, reg_data[\"line_length\"], color=\"orange\")\n",
    "        ax[0, 1].set_title(\"Customers in line\")\n",
    "\n",
    "        ax[1, 0].bar(reg_data.index, reg_data[\"speed\"], color=\"green\")\n",
    "        ax[1, 0].set_title(\"Checkout speed\")\n",
    "\n",
    "        plt.show()\n",
    "    \n",
    "    def cycle(self, n_customers):\n",
    "        # customers appear\n",
    "        self.add_customers(n_customers)\n",
    "        # customers queue\n",
    "        self.queue_customers()\n",
    "        # items are checked out\n",
    "        self.checkout_items()\n",
    "        #self.plot_register_stats()\n"
   ]
  },
  {
   "cell_type": "code",
   "execution_count": 666,
   "metadata": {},
   "outputs": [],
   "source": [
    "# Initialize store\n",
    "cub = Store(15, 40)\n",
    "\n",
    "n_cycles = 4\n",
    "for _ in np.arange(n_cycles):\n",
    "    cub.cycle(random.randint(20, 30))"
   ]
  },
  {
   "cell_type": "code",
   "execution_count": 667,
   "metadata": {},
   "outputs": [
    {
     "data": {
      "text/plain": [
       "13"
      ]
     },
     "execution_count": 667,
     "metadata": {},
     "output_type": "execute_result"
    }
   ],
   "source": [
    "#tlist = [1,2,3]\n",
    "#tlist.pop(0)\n",
    "#tlist\n"
   ]
  },
  {
   "cell_type": "code",
   "execution_count": 383,
   "metadata": {},
   "outputs": [],
   "source": [
    "miriam = Customer(cub)\n",
    "attr_matrix = miriam.register_attributes()\n",
    "weighted_attrs = miriam.ability_weight(attr_matrix)\n",
    "scores = miriam.register_scores(weighted_attrs)"
   ]
  },
  {
   "cell_type": "code",
   "execution_count": null,
   "metadata": {},
   "outputs": [],
   "source": [
    "data = weighted_attrs\n",
    "x = np.arange(data.shape[0])\n",
    "dx = (np.arange(data.shape[1])-data.shape[1]/2.)/(data.shape[1]+2.)\n",
    "d = 1./(data.shape[1]+1.)\n",
    "lab = [\"distance\", \"line\", \"items\", \"speed\"]\n",
    "fig, ax=plt.subplots()\n",
    "for i in np.arange(data.shape[1]):\n",
    "    ax.bar(x+dx[i], data[:,i], width=d, label=f\"{lab[i]}\")\n",
    "\n",
    "plt.legend(framealpha=1, loc=2, fancybox=True)\n",
    "plt.show()"
   ]
  },
  {
   "cell_type": "code",
   "execution_count": 450,
   "metadata": {},
   "outputs": [
    {
     "data": {
      "image/png": "[encoded data removed]",
      "text/plain": [
       "<Figure size 640x480 with 1 Axes>"
      ]
     },
     "metadata": {},
     "output_type": "display_data"
    }
   ],
   "source": [
    "fig, ax = plt.subplots()\n",
    "for i in np.arange(scores.shape[0]):\n",
    "    ax.bar(i, scores[i], color= \"#a0e872\")\n",
    "plt.show()"
   ]
  },
  {
   "attachments": {},
   "cell_type": "markdown",
   "metadata": {},
   "source": [
    "### Check-out flow\n",
    "\n",
    "1. Customer approaches the register area\n",
    "2. Customer queues at the register with the shortest line length\n",
    "3. **Later feature**: While the customer is at the top of the stack, they can switch to another register with shorter line or fewer items, since now they have had a bit of time to survey the other registers' lines and the contents of their customers' carts\n",
    "4. Each register processes customers at a rate of n seconds per item, which is a fixed cashier trait\n",
    "   a. The processing rate can be increased by a constant multiplier if a bagger is added to register\n",
    "   b. When register is empty (0 items), cashier can \"add\" a customer from a neighboring queue (FIFO)  \n",
    "5. The store can open another register if it has the capacity "
   ]
  }
 ],
 "metadata": {
  "kernelspec": {
   "display_name": ".venv",
   "language": "python",
   "name": "python3"
  },
  "language_info": {
   "codemirror_mode": {
    "name": "ipython",
    "version": 3
   },
   "file_extension": ".py",
   "mimetype": "text/x-python",
   "name": "python",
   "nbconvert_exporter": "python",
   "pygments_lexer": "ipython3",
   "version": "3.10.6"
  },
  "orig_nbformat": 4,
  "vscode": {
   "interpreter": {
    "hash": "ebdb21a8dfb54583ebd3022d835b778fd3e9dff5e617c1cced9319fed51b4f60"
   }
  }
 },
 "nbformat": 4,
 "nbformat_minor": 2
}
