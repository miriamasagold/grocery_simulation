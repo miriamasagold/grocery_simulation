{
 "cells": [
  {
   "cell_type": "code",
   "execution_count": 295,
   "metadata": {},
   "outputs": [],
   "source": [
    "import matplotlib.pyplot as plt\n",
    "import numpy as np\n",
    "import pandas as pd\n",
    "import random\n",
    "from scipy.stats import skewnorm\n",
    "\n",
    "import grocery_classes"
   ]
  },
  {
   "attachments": {},
   "cell_type": "markdown",
   "metadata": {},
   "source": [
    "### Check-out flow\n",
    "\n",
    "1. Customer approaches the register area\n",
    "2. Customer queues at the register with the shortest line length\n",
    "3. **Later feature**: While the customer is at the top of the stack, they can switch to another register with shorter line or fewer items, since now they have had a bit of time to survey the other registers' lines and the contents of their customers' carts\n",
    "4. Each register processes customers at a rate of n seconds per item, which is a fixed cashier trait\n",
    "   a. The processing rate can be increased by a constant multiplier if a bagger is added to register\n",
    "   b. When register is empty (0 items), cashier can \"add\" a customer from a neighboring queue (FIFO)  \n",
    "5. The store can open another register if it has the capacity "
   ]
  },
  {
   "cell_type": "code",
   "execution_count": 458,
   "metadata": {},
   "outputs": [],
   "source": [
    "# Person: number of items; \n",
    "# everyone has perfect vision and \n",
    "# the ability to tell which the shortest line is\n",
    "\n",
    "class Customer:\n",
    "    \n",
    "    def __init__(self, name: str, n: int, vessel: str):\n",
    "        self.name = name\n",
    "        self.items = n\n",
    "        if vessel in [\"cart\", \"basket\"]:\n",
    "            self.vessel = vessel\n",
    "        else:\n",
    "            raise ValueError(\"`vessel` must be one of 'cart' or 'basket'\")\n",
    "\n",
    "    def join_register(self, register: Register):\n",
    "        register.line_length += 1\n",
    "        register.items += self.items\n",
    "        register.vessel.append(self.vessel)\n",
    "        register.customers.append(self.name)\n",
    "\n",
    "class Cashier:\n",
    "    def __init__(self, speed: int):\n",
    "        \"\"\"A Cashier instance\n",
    "\n",
    "        Args:\n",
    "            speed (int): number of items the cashier can process in a minute\n",
    "        \"\"\"\n",
    "        self.speed = speed\n",
    "\n",
    "class Register:\n",
    "    \n",
    "    bagger_multiplier = 1.5\n",
    "\n",
    "    def __init__(self, index: int, cashier, bagger: bool):\n",
    "        \"\"\"A Register instance\n",
    "\n",
    "        Args:\n",
    "            index (int): unique identifier\n",
    "            cashier (Cashier): instance of class Cashier\n",
    "            bagger (bool): whether register includes a bagger\n",
    "        \"\"\"\n",
    "        self.index = index\n",
    "        # ! New register always has 0 items, 0 customers in line, and is active\n",
    "        self.items = 0\n",
    "        self.line_length = 0\n",
    "        self.customers = []\n",
    "        self.vessel = []\n",
    "        self.active = True\n",
    "    \n",
    "        # ! A cashier is required when a register is opened\n",
    "        if cashier is None:\n",
    "            self.cashier = None\n",
    "        else:\n",
    "            self.cashier = cashier\n",
    "        # A bagger is optional (you can always add one later with add_bagger())\n",
    "            self.bagger = bagger\n",
    "        # If a bagger is added, checkout speed increases\n",
    "            if bagger:\n",
    "                self.speed = cashier.speed * self.bagger_multiplier\n",
    "            else:\n",
    "                self.speed = cashier.speed\n",
    "\n",
    "    def activate(self):\n",
    "        self.active = True\n",
    "\n",
    "    def deactivate(self):\n",
    "        self.active = False\n",
    "    \n",
    "    def add_bagger(self):\n",
    "    # TODO: since baggers are just normal employees, add: check Store has enough employees free\n",
    "        self.bagger = True\n",
    "        self.speed = self.speed * self.bagger_multiplier\n",
    "\n",
    "class Store:\n",
    "    \n",
    "    def __init__(self, n_registers: int, employees: int):\n",
    "        \n",
    "        registers = []\n",
    "        free_employees = employees\n",
    "\n",
    "        for i in range(n_registers):\n",
    "            if free_employees <= 0:\n",
    "                current_register = Register(index=i, cashier=None, bagger=False)\n",
    "                current_register.deactivate()\n",
    "                registers.append(current_register)\n",
    "\n",
    "            else:\n",
    "                cashier = Cashier(np.random.normal(30, 5))\n",
    "                current_register = Register(index=i, cashier = cashier, bagger = False)\n",
    "                registers.append(current_register)\n",
    "            \n",
    "            free_employees -= 1\n",
    "        self.registers = registers\n",
    "            "
   ]
  },
  {
   "cell_type": "code",
   "execution_count": 475,
   "metadata": {},
   "outputs": [
    {
     "data": {
      "text/plain": [
       "{'index': 0,\n",
       " 'items': 0,\n",
       " 'line_length': 0,\n",
       " 'customers': [],\n",
       " 'vessel': [],\n",
       " 'active': True,\n",
       " 'cashier': <__main__.Cashier at 0x7f2035ea3f40>,\n",
       " 'bagger': False,\n",
       " 'speed': 24.273792144256788}"
      ]
     },
     "execution_count": 475,
     "metadata": {},
     "output_type": "execute_result"
    }
   ],
   "source": [
    "TraderJoes = Store(10, 15)\n",
    "TraderJoes.registers[0].__dict__\n",
    "# "
   ]
  },
  {
   "attachments": {},
   "cell_type": "markdown",
   "metadata": {},
   "source": [
    "#### Helper Functions"
   ]
  },
  {
   "cell_type": "code",
   "execution_count": 345,
   "metadata": {},
   "outputs": [],
   "source": [
    "def seq_along(list: list):\n",
    "    return range(len(list))\n",
    "\n",
    "def sort_dict(dictionary):\n",
    "    sorted_d = dict(sorted(dictionary.items()))\n",
    "    return sorted_d\n",
    "\n",
    "def sample_skew(skew=4, mean=7, sd=15):\n",
    "    skewed_dist = skewnorm(skew, mean, sd)\n",
    "    skew_num = skewed_dist.rvs()\n",
    "    skew_num_round = round(skew_num, 0)\n",
    "    if skew_num_round < 1:\n",
    "        return random.randint(1, 6)\n",
    "    else: \n",
    "        return skew_num_round\n",
    "\n",
    "\n",
    "if False:\n",
    "    def find_fewest_items(register_list: list):\n",
    "        all_items = [reg.items for reg in register_list]\n",
    "        min_items = [i for i in seq_along(register_list) if register_list[i].items == min(all_items)]\n",
    "        return min(min_items)\n",
    "\n",
    "    def find_shortest_line(register_list: list):\n",
    "        all_line_lengths = [reg.line_length for reg in registers]\n",
    "        # Find register(s) with the shortest line \n",
    "        min_lines = [i for i in seq_along(registers) if registers[i].line_length == min(all_line_lengths)]\n",
    "        # In case of a tie, arbitrarily pick the register with the lowest index\n",
    "        # TODO: Break tie with min(items)\n",
    "        return min(min_lines)\n",
    "\n"
   ]
  },
  {
   "attachments": {},
   "cell_type": "markdown",
   "metadata": {},
   "source": [
    "#### Build customers"
   ]
  },
  {
   "cell_type": "code",
   "execution_count": 363,
   "metadata": {},
   "outputs": [
    {
     "data": {
      "text/plain": [
       "29.0"
      ]
     },
     "execution_count": 363,
     "metadata": {},
     "output_type": "execute_result"
    }
   ],
   "source": [
    "\n"
   ]
  },
  {
   "attachments": {},
   "cell_type": "markdown",
   "metadata": {},
   "source": [
    "##### Build cashiers"
   ]
  },
  {
   "cell_type": "code",
   "execution_count": 81,
   "metadata": {},
   "outputs": [
    {
     "data": {
      "text/plain": [
       "{'speed': 21}"
      ]
     },
     "execution_count": 81,
     "metadata": {},
     "output_type": "execute_result"
    }
   ],
   "source": [
    "cashier = Cashier(random.randint(1, 100))\n",
    "cashier.__dict__"
   ]
  },
  {
   "attachments": {},
   "cell_type": "markdown",
   "metadata": {},
   "source": [
    "#### Combine Register Attributes and Weight"
   ]
  },
  {
   "cell_type": "code",
   "execution_count": 224,
   "metadata": {},
   "outputs": [
    {
     "data": {
      "text/plain": [
       "'reg2'"
      ]
     },
     "execution_count": 224,
     "metadata": {},
     "output_type": "execute_result"
    }
   ],
   "source": [
    "def customer_choice():\n",
    "    \"\"\"Customer choses register\n",
    "    Inputs \n",
    "        Customer\n",
    "            - Atrribute Ability vector (i.e., length of attributes)\n",
    "            - Attribute Preference weights (i.e., length of attributes)\n",
    "        List of Registers \n",
    "            - Each has attribute dict\n",
    "                - VARIABLE: Line length\n",
    "                - VARIABLE: # of items\n",
    "                - CONSTANT: Cashier speed\n",
    "                - CONSTNAT: Distance from customer\n",
    "                - CONSTANT: Treates by counter \n",
    "    \"\"\"\n",
    "\n",
    "# ! ATTRIBUTE MATRIX\n",
    "my_dict = {\"width\": 2, \"height\": 4, \"depth\": 5}\n",
    "my_dict = sort_dict(my_dict)\n",
    "attrs = ('width', 'height')\n",
    "reg1_attr = [v for k,v in my_dict.items() if k in attrs]\n",
    "reg1_attr = [2, 60]\n",
    "register2 = [3,40]\n",
    "my_matrix = np.matrix([reg1_attr, register2])\n",
    "# normalize attributes (max)\n",
    "my_matrix = my_matrix / my_matrix.max(axis=0)\n",
    "\n",
    "# Add ability vector \n",
    "my_matrix += ability\n",
    "# Apply preference weights\n",
    "mat_weighted = np.multiply(my_matrix, weights)\n",
    "\n",
    "# Register-wise sum\n",
    "summed = np.sum(mat_weighted, axis=1)\n",
    "sum_array = np.squeeze(np.asarray(summed))\n",
    "names = [\"reg1\", \"reg2\"]\n",
    "sum_dict = {k:v for k,v in zip(names, sum_array)}\n",
    "\n",
    "# Pick \n",
    "max(sum_dict, key=sum_dict.get)"
   ]
  },
  {
   "cell_type": "code",
   "execution_count": null,
   "metadata": {},
   "outputs": [],
   "source": []
  },
  {
   "cell_type": "code",
   "execution_count": 213,
   "metadata": {},
   "outputs": [
    {
     "data": {
      "text/plain": [
       "matrix([[0.93333333, 1.        ],\n",
       "        [1.        , 0.98412698]])"
      ]
     },
     "execution_count": 213,
     "metadata": {},
     "output_type": "execute_result"
    }
   ],
   "source": [
    "my_matrix /= my_matrix.max(axis=0)\n",
    "my_matrix"
   ]
  }
 ],
 "metadata": {
  "kernelspec": {
   "display_name": ".venv",
   "language": "python",
   "name": "python3"
  },
  "language_info": {
   "codemirror_mode": {
    "name": "ipython",
    "version": 3
   },
   "file_extension": ".py",
   "mimetype": "text/x-python",
   "name": "python",
   "nbconvert_exporter": "python",
   "pygments_lexer": "ipython3",
   "version": "3.10.6"
  },
  "orig_nbformat": 4,
  "vscode": {
   "interpreter": {
    "hash": "ebdb21a8dfb54583ebd3022d835b778fd3e9dff5e617c1cced9319fed51b4f60"
   }
  }
 },
 "nbformat": 4,
 "nbformat_minor": 2
}
