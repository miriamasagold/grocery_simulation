{
 "cells": [
  {
   "cell_type": "code",
   "execution_count": 206,
   "metadata": {},
   "outputs": [],
   "source": [
    "import matplotlib.pyplot as plt\n",
    "import numpy as np\n",
    "from scipy.stats import skewnorm\n",
    "import random\n",
    "# Import custom classes and helper functions "
   ]
  },
  {
   "attachments": {},
   "cell_type": "markdown",
   "metadata": {},
   "source": [
    "### Helper functions"
   ]
  },
  {
   "cell_type": "code",
   "execution_count": 207,
   "metadata": {},
   "outputs": [],
   "source": [
    "def seq_along(list: list):\n",
    "    return range(len(list))\n",
    "\n",
    "def sort_dict(dictionary):\n",
    "    sorted_d = dict(sorted(dictionary.items()))\n",
    "    return sorted_d\n",
    "\n",
    "def sample_skew(skew=4, mean=7, sd=15):\n",
    "    skewed_dist = skewnorm(skew, mean, sd)\n",
    "    skew_num = skewed_dist.rvs()\n",
    "    skew_num_round = round(skew_num, 0)\n",
    "    if skew_num_round < 1:\n",
    "        return random.randint(1, 6)\n",
    "    else: \n",
    "        return skew_num_round"
   ]
  },
  {
   "attachments": {},
   "cell_type": "markdown",
   "metadata": {},
   "source": [
    "### Grocery Classes\n",
    "1. Customer\n",
    "2. Cashier\n",
    "3. Register\n",
    "4. Store"
   ]
  },
  {
   "cell_type": "code",
   "execution_count": 208,
   "metadata": {},
   "outputs": [],
   "source": [
    "class Customer:\n",
    "    \n",
    "    def __init__(self, name: str, store, n: int, vessel: str):\n",
    "        self.name = name\n",
    "        self.items = n\n",
    "        self.store = store\n",
    "        self.position = random.randint(0, store.n_registers)\n",
    "\n",
    "        if vessel in [\"cart\", \"basket\"]:\n",
    "            self.vessel = vessel\n",
    "        else:\n",
    "            raise ValueError(\"`vessel` must be one of 'cart' or 'basket'\")\n",
    "\n",
    "    def choose_register(self):\n",
    "\n",
    "        # DISTANCE IS RELATIVE TO CUSTOMER\n",
    "        distance_arr = np.array([np.abs(self.position - reg.index) for reg in self.store.registers]) \n",
    "        distance_arr = np.exp(-distance_arr)\n",
    "\n",
    "        line_arr = np.array([reg.line_length for reg in self.store.registers])\n",
    "        line_arr = np.exp(-line_arr)\n",
    "\n",
    "        item_arr = np.array([reg.items for reg in self.store.registers])\n",
    "        item_arr = np.exp(-item_arr)\n",
    "\n",
    "        speed_arr = np.array([reg.cashier.speed for reg in self.store.registers])\n",
    "        speed_arr = speed_arr / max(speed_arr)\n",
    "\n",
    "        attr_matrix = np.column_stack((distance_arr, line_arr, item_arr, speed_arr))\n",
    "\n",
    "        # Add ability vector\n",
    "        # TODO: design ability vector (i.e., each distribution) \n",
    "        attr_matrix += [1, 6, 100, 0]\n",
    "        \n",
    "        # weighting\n",
    "        # TODO: design weights vector \n",
    "        weighted_attrs = np.multiply(attr_matrix, [random.randint(1, 100), random.randint(1, 100), random.randint(1, 100), random.randint(1, 100)])\n",
    "\n",
    "        # Sum up attribute values by \n",
    "        summed = np.sum(weighted_attrs, axis=1)\n",
    "        chosen_register = np.argmax(summed)\n",
    "        \n",
    "        # Join chosen register\n",
    "        register = self.store.registers[chosen_register]\n",
    "\n",
    "        register.line_length += 1\n",
    "        register.items += self.items\n",
    "        register.vessel.append(self.vessel)\n",
    "        register.customers.append(self.name)"
   ]
  },
  {
   "cell_type": "code",
   "execution_count": 193,
   "metadata": {},
   "outputs": [],
   "source": [
    "class Cashier:\n",
    "    def __init__(self, speed: int):\n",
    "        self.speed = speed"
   ]
  },
  {
   "cell_type": "code",
   "execution_count": 194,
   "metadata": {},
   "outputs": [],
   "source": [
    "class Register:\n",
    "    \n",
    "    bagger_multiplier = 1.5\n",
    "\n",
    "    def __init__(self, index: int, cashier, bagger: bool):\n",
    "        \"\"\"A Register instance\n",
    "\n",
    "        Args:\n",
    "            index (int): unique identifier\n",
    "            cashier (Cashier): instance of class Cashier\n",
    "            bagger (bool): whether register includes a bagger\n",
    "        \"\"\"\n",
    "        self.index = index\n",
    "        # ! New register always has 0 items, 0 customers in line, and is active\n",
    "        self.items = 0\n",
    "        self.line_length = 0\n",
    "        self.customers = []\n",
    "        self.vessel = []\n",
    "        self.active = True\n",
    "    \n",
    "        if cashier is None:\n",
    "            self.cashier = None\n",
    "        else:\n",
    "            self.cashier = cashier\n",
    "        # A bagger is optional (you can always add one later with add_bagger())\n",
    "            self.bagger = bagger\n",
    "        # If a bagger is added, checkout speed increases\n",
    "            if bagger:\n",
    "                self.speed = cashier.speed * self.bagger_multiplier\n",
    "            else:\n",
    "                self.speed = cashier.speed\n",
    "\n",
    "    def activate(self):\n",
    "        self.active = True\n",
    "\n",
    "    def deactivate(self):\n",
    "        self.active = False\n",
    "    \n",
    "    def add_bagger(self):\n",
    "    # TODO: since baggers are just normal employees, add: check Store has enough employees free\n",
    "        self.bagger = True\n",
    "        self.speed = self.speed * self.bagger_multiplier"
   ]
  },
  {
   "cell_type": "code",
   "execution_count": null,
   "metadata": {},
   "outputs": [],
   "source": [
    "class Store:\n",
    "    \n",
    "    def __init__(self, n_registers: int, employees: int):\n",
    "        \n",
    "        registers = []\n",
    "        free_employees = employees\n",
    "\n",
    "        for i in range(n_registers):\n",
    "            if free_employees <= 0:\n",
    "                current_register = Register(index=i, cashier=None, bagger=False)\n",
    "                current_register.deactivate()\n",
    "                registers.append(current_register)\n",
    "\n",
    "            else:\n",
    "                cashier = Cashier(np.random.normal(30, 5))\n",
    "                current_register = Register(index=i, cashier = cashier, bagger = False)\n",
    "                registers.append(current_register)\n",
    "            \n",
    "            free_employees -= 1\n",
    "\n",
    "        self.registers = registers\n",
    "        self.n_registers = n_registers\n",
    "        self.employees = employees"
   ]
  },
  {
   "attachments": {},
   "cell_type": "markdown",
   "metadata": {},
   "source": [
    "### Check-out flow\n",
    "\n",
    "1. Customer approaches the register area\n",
    "2. Customer queues at the register with the shortest line length\n",
    "3. **Later feature**: While the customer is at the top of the stack, they can switch to another register with shorter line or fewer items, since now they have had a bit of time to survey the other registers' lines and the contents of their customers' carts\n",
    "4. Each register processes customers at a rate of n seconds per item, which is a fixed cashier trait\n",
    "   a. The processing rate can be increased by a constant multiplier if a bagger is added to register\n",
    "   b. When register is empty (0 items), cashier can \"add\" a customer from a neighboring queue (FIFO)  \n",
    "5. The store can open another register if it has the capacity "
   ]
  },
  {
   "cell_type": "code",
   "execution_count": 219,
   "metadata": {},
   "outputs": [],
   "source": [
    "cub = Store(15, 30)\n",
    "\n",
    "miriam = Customer(name=\"miriam\", store=cub, n=30, vessel=\"cart\")\n",
    "lizzie = Customer(\"lizzie\", cub, 70, \"cart\")\n",
    "miriam.choose_register()\n",
    "miriam.choose_register()\n",
    "lizzie.choose_register()\n"
   ]
  }
 ],
 "metadata": {
  "kernelspec": {
   "display_name": ".venv",
   "language": "python",
   "name": "python3"
  },
  "language_info": {
   "codemirror_mode": {
    "name": "ipython",
    "version": 3
   },
   "file_extension": ".py",
   "mimetype": "text/x-python",
   "name": "python",
   "nbconvert_exporter": "python",
   "pygments_lexer": "ipython3",
   "version": "3.10.6"
  },
  "orig_nbformat": 4,
  "vscode": {
   "interpreter": {
    "hash": "ebdb21a8dfb54583ebd3022d835b778fd3e9dff5e617c1cced9319fed51b4f60"
   }
  }
 },
 "nbformat": 4,
 "nbformat_minor": 2
}
